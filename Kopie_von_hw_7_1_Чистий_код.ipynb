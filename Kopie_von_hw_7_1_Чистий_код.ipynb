{
 "cells": [
  {
   "cell_type": "markdown",
   "id": "aed503f1",
   "metadata": {
    "ExecuteTime": {
     "end_time": "2023-07-27T20:14:32.871852Z",
     "start_time": "2023-07-27T20:14:31.036121Z"
    },
    "id": "aed503f1"
   },
   "source": [
    "У завданнях 1-4. Вам наданий простий код на Python, який не відповідає вказівкам PEP8. Ваше завдання — відредагувати код так, аби він відповідав PEP8. Напишіть після редагуванню коду, дотримання яких правил з pep8 ви досягли в відредагованій версі, наприклад\n",
    "```\n",
    "- додала пробіли навколо бінарного оператора\n",
    "- додала два порожні рядки між визначеннями функцій\n",
    "і тд\n",
    "```\n",
    "Також можна зазанчити використані правила коментарями по коду, а не окремим повідомленням.\n",
    "\n",
    "Відредагований код має виконувати весь той самий функціонал, але бути написаний відповідно до вимог до гарного коду на Python! Не забудьте запустити відредагований код, він має бути робочим."
   ]
  },
  {
   "cell_type": "markdown",
   "id": "e7fea147",
   "metadata": {
    "id": "e7fea147"
   },
   "source": [
    "Завдання 1."
   ]
  },
  {
   "cell_type": "code",
   "execution_count": 1,
   "id": "f63d84d7",
   "metadata": {
    "ExecuteTime": {
     "end_time": "2023-07-29T17:02:37.075783Z",
     "start_time": "2023-07-29T17:02:37.035259Z"
    },
    "colab": {
     "base_uri": "https://localhost:8080/",
     "height": 69
    },
    "id": "f63d84d7",
    "outputId": "65404998-d3f1-483f-dd07-43408cd43a8a"
   },
   "outputs": [
    {
     "name": "stdout",
     "output_type": "stream",
     "text": [
      "Hello, John\n"
     ]
    },
    {
     "data": {
      "text/plain": [
       "None"
      ]
     },
     "metadata": {},
     "output_type": "display_data"
    },
    {
     "data": {
      "text/plain": [
       "8"
      ]
     },
     "metadata": {},
     "output_type": "display_data"
    }
   ],
   "source": [
    "def greet(name):print(f\"Hello, {name}\")\n",
    "def add(n1,n2):return n1+n2\n",
    "\n",
    "x = 5;y = 3\n",
    "display(greet(\"John\"),add(x,y))\n"
   ]
  },
  {
   "cell_type": "code",
   "execution_count": 2,
   "id": "41b7e672",
   "metadata": {
    "colab": {
     "base_uri": "https://localhost:8080/",
     "height": 69
    },
    "id": "41b7e672",
    "outputId": "c95f1b44-b1a0-4e18-a0bf-969049f6e21a"
   },
   "outputs": [
    {
     "name": "stdout",
     "output_type": "stream",
     "text": [
      "Hello, John\n"
     ]
    },
    {
     "data": {
      "text/plain": [
       "None"
      ]
     },
     "metadata": {},
     "output_type": "display_data"
    },
    {
     "data": {
      "text/plain": [
       "8"
      ]
     },
     "metadata": {},
     "output_type": "display_data"
    }
   ],
   "source": [
    "def greet(name):\n",
    "    print(f\"Hello, {name}\")\n",
    "\n",
    "\n",
    "def add(n1, n2):\n",
    "    return n1 + n2\n",
    "\n",
    "x = 5\n",
    "y = 3\n",
    "display(greet(\"John\"), add(x, y))"
   ]
  },
  {
   "cell_type": "markdown",
   "id": "g-AWyuoWadlg",
   "metadata": {
    "id": "g-AWyuoWadlg"
   },
   "source": [
    "- Додала 2 порожні рядки перед блоками коду у функціях\n",
    "- Додала пропуски після ком, де це потрібно\n",
    "- Окремі змінні x та y розмістила на окремих рядках\n",
    "- Додала пробіли навколо бінарного оператора"
   ]
  },
  {
   "cell_type": "markdown",
   "id": "cea88baf",
   "metadata": {
    "id": "cea88baf"
   },
   "source": [
    "Завдання 2."
   ]
  },
  {
   "cell_type": "code",
   "execution_count": 3,
   "id": "dfb6d2b5",
   "metadata": {
    "ExecuteTime": {
     "end_time": "2023-07-29T17:05:49.706098Z",
     "start_time": "2023-07-29T17:05:49.688255Z"
    },
    "colab": {
     "base_uri": "https://localhost:8080/"
    },
    "id": "dfb6d2b5",
    "outputId": "67fdc7ef-5081-473f-a526-d19e4cb47def"
   },
   "outputs": [
    {
     "name": "stdout",
     "output_type": "stream",
     "text": [
      "Area: 78.53981633974483 Circumference: 31.41592653589793\n"
     ]
    }
   ],
   "source": [
    "from math import *\n",
    "def calcArea(r):return pi*r**2\n",
    "def calcCircumference(r):return 2*pi*r\n",
    "\n",
    "radius=5\n",
    "print(\"Area:\",calcArea(radius),\"Circumference:\",calcCircumference(radius))"
   ]
  },
  {
   "cell_type": "code",
   "execution_count": 4,
   "id": "df263672",
   "metadata": {
    "colab": {
     "base_uri": "https://localhost:8080/"
    },
    "id": "df263672",
    "outputId": "d73ed3c2-dccd-4092-b4fb-206034984dfc"
   },
   "outputs": [
    {
     "name": "stdout",
     "output_type": "stream",
     "text": [
      "Area: 78.53981633974483 Circumference: 31.41592653589793\n"
     ]
    }
   ],
   "source": [
    "from math import pi\n",
    "\n",
    "\n",
    "def calc_area(r):\n",
    "    return pi * r ** 2\n",
    "\n",
    "\n",
    "def calc_circumference(r):\n",
    "    return 2 * pi * r\n",
    "\n",
    "\n",
    "radius = 5\n",
    "print(\"Area:\", calc_area(radius), \"Circumference:\", calc_circumference(radius))"
   ]
  },
  {
   "cell_type": "markdown",
   "id": "13aKwwhAcEHV",
   "metadata": {
    "id": "13aKwwhAcEHV"
   },
   "source": [
    "- Додала 2 порожні рядки перед блоками коду у функціях\n",
    "- Виправила імена функцій на calc_area та calc_circumference відповідно до стилю нижнього підкреслення для ідентифікаторів (snake_case)\n",
    "- Додала пропуски навколо операторів\n",
    "- Імпортовала лише pi з модуля math, щоб уникнути надмірного імпорту"
   ]
  },
  {
   "cell_type": "markdown",
   "id": "1fd691b7",
   "metadata": {
    "id": "1fd691b7"
   },
   "source": [
    "Завдання 3."
   ]
  },
  {
   "cell_type": "code",
   "execution_count": 5,
   "id": "1d5acb2d",
   "metadata": {
    "ExecuteTime": {
     "end_time": "2023-07-29T17:06:18.612622Z",
     "start_time": "2023-07-29T17:06:18.598477Z"
    },
    "id": "1d5acb2d"
   },
   "outputs": [],
   "source": [
    "class animal: pass\n",
    "class dog(animal):\n",
    "    def __init__(self,name):\n",
    "        self.name=name\n",
    "        self.type='Dog'"
   ]
  },
  {
   "cell_type": "code",
   "execution_count": 7,
   "id": "0d4b2b8a",
   "metadata": {
    "id": "0d4b2b8a"
   },
   "outputs": [],
   "source": [
    "class Animal:\n",
    "    pass\n",
    "\n",
    "\n",
    "class Dog(Animal):\n",
    "    def __init__(self, name):\n",
    "        self.name = name\n",
    "        self.type = 'Dog'"
   ]
  },
  {
   "cell_type": "markdown",
   "id": "DiQ_ljK-dgqx",
   "metadata": {
    "id": "DiQ_ljK-dgqx"
   },
   "source": [
    "- Класи написала з великої літери відповідно до стилю CamelCase (CapWords)\n",
    "- Додала відступи перед блоками коду у функціях\n",
    "- Додала пробіли навколо операторів присвоєння"
   ]
  },
  {
   "cell_type": "markdown",
   "id": "7d1d4f5d",
   "metadata": {
    "id": "7d1d4f5d"
   },
   "source": [
    "Завдання 4."
   ]
  },
  {
   "cell_type": "code",
   "execution_count": 8,
   "id": "a91c1cc4",
   "metadata": {
    "ExecuteTime": {
     "end_time": "2023-07-29T17:06:47.180263Z",
     "start_time": "2023-07-29T17:06:47.173617Z"
    },
    "colab": {
     "base_uri": "https://localhost:8080/"
    },
    "id": "a91c1cc4",
    "outputId": "453514cb-095b-42cf-914f-b7b1f005dc42"
   },
   "outputs": [
    {
     "name": "stdout",
     "output_type": "stream",
     "text": [
      "1\n",
      "2\n",
      "3\n",
      "4\n",
      "5\n"
     ]
    }
   ],
   "source": [
    "list=[1,2,3,4,5]\n",
    "for i in range(len(list)):print(list[i])"
   ]
  },
  {
   "cell_type": "code",
   "execution_count": 9,
   "id": "c0f9541a",
   "metadata": {
    "colab": {
     "base_uri": "https://localhost:8080/"
    },
    "id": "c0f9541a",
    "outputId": "6b9b5753-63e3-47f2-c3e2-ca261ef24150"
   },
   "outputs": [
    {
     "name": "stdout",
     "output_type": "stream",
     "text": [
      "1\n",
      "2\n",
      "3\n",
      "4\n",
      "5\n"
     ]
    }
   ],
   "source": [
    "list = [1, 2, 3, 4, 5]\n",
    "for i in range(len(list)):\n",
    "  print(list[i])"
   ]
  },
  {
   "cell_type": "markdown",
   "id": "49yXMfaYfGem",
   "metadata": {
    "id": "49yXMfaYfGem"
   },
   "source": [
    "- Додала пробіли навколо оператора присвоєння\n",
    "- Додала пробіли після ком\n",
    "- Додала відступ перед \"print\""
   ]
  },
  {
   "cell_type": "markdown",
   "id": "8b0487e6",
   "metadata": {
    "id": "8b0487e6"
   },
   "source": [
    "5.У вас є DataFrame df, що представляє результати тестів студентів з математики, англійської мови та історії. Поточний код обчислює середній бал для кожного студента шляхом ітерації за рядками DataFrame за допомогою iterrows().\n",
    "\n",
    "Ваше завдання полягає в тому, щоб змінити код так, аби уникнути використання iterrows() і замість цього застосувати більш ефективне та читабельне рішення відповідно до правил, озвучених у лекції. Рефакторинг треба зробити лише частині, де рахуються середні, імпорт і визначення датафрейму лишаємо без змін."
   ]
  },
  {
   "cell_type": "code",
   "execution_count": 10,
   "id": "5b3cc648",
   "metadata": {
    "ExecuteTime": {
     "end_time": "2023-07-29T17:15:55.926882Z",
     "start_time": "2023-07-29T17:15:55.686415Z"
    },
    "id": "5b3cc648"
   },
   "outputs": [],
   "source": [
    "import pandas as pd\n",
    "\n",
    "df = pd.DataFrame({\n",
    "    'student': ['Alice', 'Bob', 'Charlie', 'David'],\n",
    "    'math_score': [89, 94, 77, 85],\n",
    "    'english_score': [92, 88, 79, 85],\n",
    "    'history_score': [84, 92, 81, 89]\n",
    "})"
   ]
  },
  {
   "cell_type": "code",
   "execution_count": 11,
   "id": "f5858889",
   "metadata": {
    "ExecuteTime": {
     "end_time": "2023-07-29T17:15:55.926882Z",
     "start_time": "2023-07-29T17:15:55.686415Z"
    },
    "id": "f5858889"
   },
   "outputs": [],
   "source": [
    "averages = []\n",
    "for _, row in df.iterrows():\n",
    "    averages.append((row['math_score'] + row['english_score'] + row['history_score']) / 3)\n",
    "\n",
    "df['average_score'] = averages"
   ]
  },
  {
   "cell_type": "code",
   "execution_count": 12,
   "id": "74cea4fc",
   "metadata": {
    "id": "74cea4fc"
   },
   "outputs": [],
   "source": [
    "import pandas as pd\n",
    "\n",
    "df = pd.DataFrame({\n",
    "    'student': ['Alice', 'Bob', 'Charlie', 'David'],\n",
    "    'math_score': [89, 94, 77, 85],\n",
    "    'english_score': [92, 88, 79, 85],\n",
    "    'history_score': [84, 92, 81, 89]\n",
    "})\n",
    "\n",
    "\n",
    "df['average_score'] = df[['math_score', 'english_score', 'history_score']].mean(axis=1)"
   ]
  },
  {
   "cell_type": "markdown",
   "id": "34fb1db9",
   "metadata": {
    "id": "34fb1db9"
   },
   "source": [
    "6.У Вас є великий DataFrame df, що представляє транзакції продажу в магазині. Цей DataFrame містить понад 1 мільйон рядків і кілька стовпців, зокрема «product_name», «product_category», «product_price» і «transaction_date».\n",
    "\n",
    "І «product_name», і «product_category» є рядками, що представляють численні, але обмежені унікальні назви продуктів і категорії відповідно.\n",
    "\n",
    "Напишіть код для ефективного перетворення стовпців «product_name» і «product_category» на категорійний тип для ефективного використання пам’яті.\n",
    "Спробуйте вирішити це завдання, мінімізуючи використання пам'яті та зберігаючи читабельність коду. Крім того, виміряйте використання пам’яті до та після перетворення, щоб продемонструвати підвищення ефективності.\n",
    "\n",
    "Порівняйте кількість памʼяті, яку займає наданий набір даних і новий, створений Вами. В лекції був приклад. В скільки разів менше памʼяті займає новий датафрейм?"
   ]
  },
  {
   "cell_type": "code",
   "execution_count": 13,
   "id": "d4926909",
   "metadata": {
    "ExecuteTime": {
     "end_time": "2023-07-29T21:19:30.009527Z",
     "start_time": "2023-07-29T21:19:29.595210Z"
    },
    "id": "d4926909"
   },
   "outputs": [],
   "source": [
    "import pandas as pd\n",
    "import numpy as np\n",
    "\n",
    "np.random.seed(0)\n",
    "\n",
    "products = ['apple', 'banana', 'cherry', 'dates', 'elderberry']\n",
    "categories = ['fruit', 'fruit', 'fruit', 'fruit', 'fruit']\n",
    "\n",
    "N_ROWS = 10**6\n",
    "df = pd.DataFrame({\n",
    "    'product_name': np.random.choice(products, N_ROWS),\n",
    "    'product_category': np.random.choice(categories, N_ROWS),\n",
    "    'product_price': np.random.uniform(1, 10, N_ROWS),\n",
    "    'transaction_date': pd.date_range(start='1/1/2000', periods=N_ROWS, freq='h')\n",
    "})\n"
   ]
  },
  {
   "cell_type": "code",
   "execution_count": 14,
   "id": "aTqVbEMUxdU1",
   "metadata": {
    "colab": {
     "base_uri": "https://localhost:8080/"
    },
    "id": "aTqVbEMUxdU1",
    "outputId": "f71febb5-d319-48d4-dded-925e97d44eee"
   },
   "outputs": [
    {
     "name": "stdout",
     "output_type": "stream",
     "text": [
      "Memory usage before conversion: 134.85 MB\n"
     ]
    }
   ],
   "source": [
    "memory_before = df.memory_usage(deep=True).sum() / 1024**2\n",
    "print(f'Memory usage before conversion: {memory_before:.2f} MB')"
   ]
  },
  {
   "cell_type": "code",
   "execution_count": 15,
   "id": "zhQNaYFzxqSg",
   "metadata": {
    "id": "zhQNaYFzxqSg"
   },
   "outputs": [],
   "source": [
    "df['product_name'] = df['product_name'].astype('category')\n",
    "df['product_category'] = df['product_category'].astype('category')"
   ]
  },
  {
   "cell_type": "code",
   "execution_count": 17,
   "id": "6K1Jg_07x1Co",
   "metadata": {
    "colab": {
     "base_uri": "https://localhost:8080/"
    },
    "id": "6K1Jg_07x1Co",
    "outputId": "5aebee78-72eb-4632-e9e8-2ac8ba862a18"
   },
   "outputs": [
    {
     "name": "stdout",
     "output_type": "stream",
     "text": [
      "Memory usage after conversion: 17.17 MB\n"
     ]
    }
   ],
   "source": [
    "memory_after = df.memory_usage(deep=True).sum() / 1024**2\n",
    "print(f'Memory usage after conversion: {memory_after:.2f} MB')"
   ]
  },
  {
   "cell_type": "markdown",
   "id": "131cc08d",
   "metadata": {
    "id": "131cc08d"
   },
   "source": [
    "7.В цьому завданні кілька пунктів. Треба виконати усі послідовно.   \n",
    "    7.1. Завантажте дані у pandas dataframe з файла `ecommerce_data.csv`. Обовʼязково при завантаженні вкажіть параметр `encoding = 'ISO-8859-1'`, без нього буде помилка.  \n",
    "    7.2. Заповніть пропущені значення в колонці CustomerID на -1 та перетворіть тип цієї колонки на str, адже зараз вона типу float, а це не правильний тип даних для ідентифікатора клієнта.  \n",
    "    7.3. З допомогою бібліотеки sweetviz побудуйте html звіт, який порівнює дані для країни \"Germany\" і країни \"France\". У Вас можуть виникнути багато попереджень (Warning), їх рекомендую вимкнути наступним шматком коду   \n",
    "    \n",
    "   \n",
    "    import warnings\n",
    "\n",
    "    with warnings.catch_warnings(record=True):\n",
    "        # your code\n",
    "    \n",
    "    \n",
    "   7.4.Напишіть 5 відмінностей для двох зазначених країн на основі побудованого звіту, без виконання додаткового аналізу іншими інструментами."
   ]
  },
  {
   "cell_type": "code",
   "execution_count": 10,
   "id": "17200e77",
   "metadata": {
    "id": "17200e77"
   },
   "outputs": [],
   "source": [
    "import pandas as pd"
   ]
  },
  {
   "cell_type": "code",
   "execution_count": 11,
   "id": "4HYLE9iW0xfb",
   "metadata": {
    "colab": {
     "base_uri": "https://localhost:8080/",
     "height": 35
    },
    "id": "4HYLE9iW0xfb",
    "outputId": "c5ccdf52-425b-4ce8-e967-8de72e173a59"
   },
   "outputs": [
    {
     "data": {
      "text/plain": [
       "'C:\\\\Users\\\\Юлія Матіюк\\\\Python for DA_homework'"
      ]
     },
     "execution_count": 11,
     "metadata": {},
     "output_type": "execute_result"
    }
   ],
   "source": [
    "import os\n",
    "os.getcwd()"
   ]
  },
  {
   "cell_type": "code",
   "execution_count": 15,
   "id": "z0ULCLDxzn8H",
   "metadata": {
    "colab": {
     "base_uri": "https://localhost:8080/",
     "height": 287
    },
    "id": "z0ULCLDxzn8H",
    "outputId": "45dbd841-5fbf-4c5c-b56a-b3c8cf5537bb"
   },
   "outputs": [
    {
     "data": {
      "text/plain": [
       "['ab_data.csv',\n",
       " 'cookie_cats.csv',\n",
       " 'data.csv',\n",
       " 'data_2.csv',\n",
       " 'ecommerce_data.csv',\n",
       " 'medical-charges.csv',\n",
       " 'supermarket_sales.csv',\n",
       " 'yulu_rental.csv']"
      ]
     },
     "execution_count": 15,
     "metadata": {},
     "output_type": "execute_result"
    }
   ],
   "source": [
    "os.listdir (\"../Data for homework/\")"
   ]
  },
  {
   "cell_type": "code",
   "execution_count": 17,
   "id": "059db94e",
   "metadata": {},
   "outputs": [],
   "source": [
    "data_path = \"../Data for homework/ecommerce_data.csv\""
   ]
  },
  {
   "cell_type": "code",
   "execution_count": 19,
   "id": "3ca182dc",
   "metadata": {},
   "outputs": [
    {
     "name": "stdout",
     "output_type": "stream",
     "text": [
      "  InvoiceNo StockCode                          Description  Quantity  \\\n",
      "0    536365    85123A   WHITE HANGING HEART T-LIGHT HOLDER         6   \n",
      "1    536365     71053                  WHITE METAL LANTERN         6   \n",
      "2    536365    84406B       CREAM CUPID HEARTS COAT HANGER         8   \n",
      "3    536365    84029G  KNITTED UNION FLAG HOT WATER BOTTLE         6   \n",
      "4    536365    84029E       RED WOOLLY HOTTIE WHITE HEART.         6   \n",
      "\n",
      "      InvoiceDate  UnitPrice  CustomerID         Country  \n",
      "0  12/1/2010 8:26       2.55     17850.0  United Kingdom  \n",
      "1  12/1/2010 8:26       3.39     17850.0  United Kingdom  \n",
      "2  12/1/2010 8:26       2.75     17850.0  United Kingdom  \n",
      "3  12/1/2010 8:26       3.39     17850.0  United Kingdom  \n",
      "4  12/1/2010 8:26       3.39     17850.0  United Kingdom  \n"
     ]
    }
   ],
   "source": [
    "df = pd.read_csv(data_path, encoding='ISO-8859-1')\n",
    "print(df.head()) "
   ]
  },
  {
   "cell_type": "code",
   "execution_count": 20,
   "id": "be0f9025",
   "metadata": {},
   "outputs": [
    {
     "name": "stdout",
     "output_type": "stream",
     "text": [
      "0    17850.0\n",
      "1    17850.0\n",
      "2    17850.0\n",
      "3    17850.0\n",
      "4    17850.0\n",
      "Name: CustomerID, dtype: object\n"
     ]
    }
   ],
   "source": [
    "df['CustomerID'] = df['CustomerID'].fillna(-1)\n",
    "\n",
    "\n",
    "df['CustomerID'] = df['CustomerID'].astype(str)\n",
    "print(df['CustomerID'].head()) "
   ]
  },
  {
   "cell_type": "code",
   "execution_count": 21,
   "id": "b7bd463d",
   "metadata": {},
   "outputs": [
    {
     "name": "stdout",
     "output_type": "stream",
     "text": [
      "Defaulting to user installation because normal site-packages is not writeable\n",
      "Collecting sweetviz\n",
      "  Obtaining dependency information for sweetviz from https://files.pythonhosted.org/packages/89/50/8d3f7ca820267a38b42c64778db0f186d85cec6e3f0c5210eab9c16e783f/sweetviz-2.3.1-py3-none-any.whl.metadata\n",
      "  Downloading sweetviz-2.3.1-py3-none-any.whl.metadata (24 kB)\n",
      "Requirement already satisfied: pandas!=1.0.0,!=1.0.1,!=1.0.2,>=0.25.3 in c:\\programdata\\anaconda3\\lib\\site-packages (from sweetviz) (2.0.3)\n",
      "Requirement already satisfied: numpy>=1.16.0 in c:\\programdata\\anaconda3\\lib\\site-packages (from sweetviz) (1.24.3)\n",
      "Requirement already satisfied: matplotlib>=3.1.3 in c:\\programdata\\anaconda3\\lib\\site-packages (from sweetviz) (3.7.2)\n",
      "Requirement already satisfied: tqdm>=4.43.0 in c:\\programdata\\anaconda3\\lib\\site-packages (from sweetviz) (4.65.0)\n",
      "Requirement already satisfied: scipy>=1.3.2 in c:\\programdata\\anaconda3\\lib\\site-packages (from sweetviz) (1.11.1)\n",
      "Requirement already satisfied: jinja2>=2.11.1 in c:\\programdata\\anaconda3\\lib\\site-packages (from sweetviz) (3.1.2)\n",
      "Collecting importlib-resources>=1.2.0 (from sweetviz)\n",
      "  Obtaining dependency information for importlib-resources>=1.2.0 from https://files.pythonhosted.org/packages/75/06/4df55e1b7b112d183f65db9503bff189e97179b256e1ea450a3c365241e0/importlib_resources-6.4.0-py3-none-any.whl.metadata\n",
      "  Downloading importlib_resources-6.4.0-py3-none-any.whl.metadata (3.9 kB)\n",
      "Requirement already satisfied: MarkupSafe>=2.0 in c:\\programdata\\anaconda3\\lib\\site-packages (from jinja2>=2.11.1->sweetviz) (2.1.1)\n",
      "Requirement already satisfied: contourpy>=1.0.1 in c:\\programdata\\anaconda3\\lib\\site-packages (from matplotlib>=3.1.3->sweetviz) (1.0.5)\n",
      "Requirement already satisfied: cycler>=0.10 in c:\\programdata\\anaconda3\\lib\\site-packages (from matplotlib>=3.1.3->sweetviz) (0.11.0)\n",
      "Requirement already satisfied: fonttools>=4.22.0 in c:\\programdata\\anaconda3\\lib\\site-packages (from matplotlib>=3.1.3->sweetviz) (4.25.0)\n",
      "Requirement already satisfied: kiwisolver>=1.0.1 in c:\\programdata\\anaconda3\\lib\\site-packages (from matplotlib>=3.1.3->sweetviz) (1.4.4)\n",
      "Requirement already satisfied: packaging>=20.0 in c:\\programdata\\anaconda3\\lib\\site-packages (from matplotlib>=3.1.3->sweetviz) (23.1)\n",
      "Requirement already satisfied: pillow>=6.2.0 in c:\\programdata\\anaconda3\\lib\\site-packages (from matplotlib>=3.1.3->sweetviz) (9.4.0)\n",
      "Requirement already satisfied: pyparsing<3.1,>=2.3.1 in c:\\programdata\\anaconda3\\lib\\site-packages (from matplotlib>=3.1.3->sweetviz) (3.0.9)\n",
      "Requirement already satisfied: python-dateutil>=2.7 in c:\\programdata\\anaconda3\\lib\\site-packages (from matplotlib>=3.1.3->sweetviz) (2.8.2)\n",
      "Requirement already satisfied: pytz>=2020.1 in c:\\programdata\\anaconda3\\lib\\site-packages (from pandas!=1.0.0,!=1.0.1,!=1.0.2,>=0.25.3->sweetviz) (2023.3.post1)\n",
      "Requirement already satisfied: tzdata>=2022.1 in c:\\programdata\\anaconda3\\lib\\site-packages (from pandas!=1.0.0,!=1.0.1,!=1.0.2,>=0.25.3->sweetviz) (2023.3)\n",
      "Requirement already satisfied: colorama in c:\\programdata\\anaconda3\\lib\\site-packages (from tqdm>=4.43.0->sweetviz) (0.4.6)\n",
      "Requirement already satisfied: six>=1.5 in c:\\programdata\\anaconda3\\lib\\site-packages (from python-dateutil>=2.7->matplotlib>=3.1.3->sweetviz) (1.16.0)\n",
      "Downloading sweetviz-2.3.1-py3-none-any.whl (15.1 MB)\n",
      "   ---------------------------------------- 0.0/15.1 MB ? eta -:--:--\n",
      "   ---------------------------------------- 0.0/15.1 MB 991.0 kB/s eta 0:00:16\n",
      "    --------------------------------------- 0.2/15.1 MB 2.5 MB/s eta 0:00:06\n",
      "   - -------------------------------------- 0.4/15.1 MB 3.3 MB/s eta 0:00:05\n",
      "   -- ------------------------------------- 0.9/15.1 MB 5.0 MB/s eta 0:00:03\n",
      "   --- ------------------------------------ 1.4/15.1 MB 6.1 MB/s eta 0:00:03\n",
      "   ---- ----------------------------------- 1.7/15.1 MB 6.8 MB/s eta 0:00:02\n",
      "   ---- ----------------------------------- 1.7/15.1 MB 5.5 MB/s eta 0:00:03\n",
      "   ------- -------------------------------- 2.9/15.1 MB 8.1 MB/s eta 0:00:02\n",
      "   ---------- ----------------------------- 3.9/15.1 MB 9.6 MB/s eta 0:00:02\n",
      "   ---------- ----------------------------- 4.1/15.1 MB 9.8 MB/s eta 0:00:02\n",
      "   ----------- ---------------------------- 4.5/15.1 MB 9.0 MB/s eta 0:00:02\n",
      "   --------------- ------------------------ 5.9/15.1 MB 10.8 MB/s eta 0:00:01\n",
      "   ----------------- ---------------------- 6.6/15.1 MB 11.1 MB/s eta 0:00:01\n",
      "   ------------------- -------------------- 7.2/15.1 MB 11.2 MB/s eta 0:00:01\n",
      "   -------------------- ------------------- 7.9/15.1 MB 11.5 MB/s eta 0:00:01\n",
      "   ---------------------- ----------------- 8.7/15.1 MB 11.8 MB/s eta 0:00:01\n",
      "   ------------------------ --------------- 9.2/15.1 MB 11.8 MB/s eta 0:00:01\n",
      "   -------------------------- ------------- 9.9/15.1 MB 12.1 MB/s eta 0:00:01\n",
      "   --------------------------- ------------ 10.6/15.1 MB 13.6 MB/s eta 0:00:01\n",
      "   ----------------------------- ---------- 11.3/15.1 MB 14.2 MB/s eta 0:00:01\n",
      "   ------------------------------- -------- 12.0/15.1 MB 16.4 MB/s eta 0:00:01\n",
      "   --------------------------------- ------ 12.6/15.1 MB 15.6 MB/s eta 0:00:01\n",
      "   --------------------------------- ------ 12.7/15.1 MB 14.6 MB/s eta 0:00:01\n",
      "   ---------------------------------- ----- 13.0/15.1 MB 14.2 MB/s eta 0:00:01\n",
      "   ------------------------------------ --- 13.6/15.1 MB 13.6 MB/s eta 0:00:01\n",
      "   ------------------------------------- -- 14.0/15.1 MB 12.8 MB/s eta 0:00:01\n",
      "   -------------------------------------- - 14.7/15.1 MB 13.9 MB/s eta 0:00:01\n",
      "   ---------------------------------------  15.1/15.1 MB 13.4 MB/s eta 0:00:01\n",
      "   ---------------------------------------- 15.1/15.1 MB 12.6 MB/s eta 0:00:00\n",
      "Downloading importlib_resources-6.4.0-py3-none-any.whl (38 kB)\n",
      "Installing collected packages: importlib-resources, sweetviz\n",
      "Successfully installed importlib-resources-6.4.0 sweetviz-2.3.1\n",
      "Note: you may need to restart the kernel to use updated packages.\n"
     ]
    }
   ],
   "source": [
    "pip install sweetviz"
   ]
  },
  {
   "cell_type": "code",
   "execution_count": 22,
   "id": "06d844d4",
   "metadata": {},
   "outputs": [],
   "source": [
    "import sweetviz as sv\n",
    "import warnings"
   ]
  },
  {
   "cell_type": "code",
   "execution_count": 23,
   "id": "589e5884",
   "metadata": {},
   "outputs": [],
   "source": [
    "df_germany = df[df['Country'] == 'Germany']\n",
    "df_france = df[df['Country'] == 'France']"
   ]
  },
  {
   "cell_type": "code",
   "execution_count": 24,
   "id": "84c554b1",
   "metadata": {},
   "outputs": [
    {
     "data": {
      "application/vnd.jupyter.widget-view+json": {
       "model_id": "ced34eb367eb45f1916ba4e60e173513",
       "version_major": 2,
       "version_minor": 0
      },
      "text/plain": [
       "                                             |                                             | [  0%]   00:00 ->…"
      ]
     },
     "metadata": {},
     "output_type": "display_data"
    }
   ],
   "source": [
    "with warnings.catch_warnings(record=True):\n",
    "    report = sv.compare([df_germany, \"Germany\"], [df_france, \"France\"])\n"
   ]
  },
  {
   "cell_type": "code",
   "execution_count": 25,
   "id": "ef99b331",
   "metadata": {},
   "outputs": [
    {
     "name": "stdout",
     "output_type": "stream",
     "text": [
      "Report Germany_vs_France.html was generated! NOTEBOOK/COLAB USERS: the web browser MAY not pop up, regardless, the report IS saved in your notebook/colab files.\n"
     ]
    }
   ],
   "source": [
    "report.show_html('Germany_vs_France.html')"
   ]
  },
  {
   "cell_type": "markdown",
   "id": "dff5304e",
   "metadata": {},
   "source": [
    "file:///C:/Users/%D0%AE%D0%BB%D1%96%D1%8F%20%D0%9C%D0%B0%D1%82%D1%96%D1%8E%D0%BA/Python%20for%20DA_homework/Germany_vs_France.html"
   ]
  },
  {
   "cell_type": "markdown",
   "id": "07ae375a",
   "metadata": {
    "ExecuteTime": {
     "end_time": "2023-07-30T18:55:42.650457Z",
     "start_time": "2023-07-30T18:55:42.635729Z"
    },
    "id": "07ae375a"
   },
   "source": [
    "8.З допомогою ChatGPT виявіть, чи є та які помилки в наступному коді.  \n",
    "Попросіть після цього переписати код із дотриманням PEP8. Проаналізуйте результат. Чи справді ChatGPT виправив всі стилістичні помилки? Якщо ні, напишіть йому ще кілька запитів, аби код відповідав вимогам PEP8.  \n",
    "Вставте фінальну версію коду з чату у ноутбук та запустіть на заданому списку. Має вертатись 50.  \n",
    "Напишіть, які промпти (інструкції) при зверненні до ChatGPT ви застосували та додайте скріншот(-и) з промптами та відповідями чата.  \n",
    "Якщо зробили висновки при виконанні цього завдання, то діліться також :)\n",
    "\n",
    "**ЯК ВСТАВИТИ СКРІНШОТ в Jupyter Notebook** :\n",
    "1. Створіть нову Markdown клітинку\n",
    "2. В новоствореній клітинці обираєте в меню Jupyter Notebook Edit -> Insert Image\n",
    "3. Обираєте картинку\n",
    "4. В клітинці має зʼявитись текст, який містить картинку. Запустіть клітинку.\n",
    "\n",
    "Або можна просто перетягнути картинку в Markdown клітинку."
   ]
  },
  {
   "cell_type": "code",
   "execution_count": 26,
   "id": "a5c010c4",
   "metadata": {
    "ExecuteTime": {
     "end_time": "2023-07-30T19:16:20.977219Z",
     "start_time": "2023-07-30T19:16:20.973688Z"
    },
    "id": "a5c010c4"
   },
   "outputs": [],
   "source": [
    "def CalculateVariance(nl):\n",
    "    sum_list = 0\n",
    "    for n in nl:\n",
    "        sum_list = sum_list + n\n",
    "    mean = sum_list / len(nl)\n",
    "    sum_squares = 0\n",
    "    for n in nl:\n",
    "        sum_squares = sum_squares + n**2\n",
    "    mean_squares = sum_squares / len(nl)\n",
    "    return mean_squares"
   ]
  },
  {
   "cell_type": "code",
   "execution_count": 27,
   "id": "24bb3f81",
   "metadata": {
    "ExecuteTime": {
     "end_time": "2023-07-30T19:16:09.201841Z",
     "start_time": "2023-07-30T19:16:09.199174Z"
    },
    "id": "24bb3f81"
   },
   "outputs": [],
   "source": [
    "input_list = [75, 80, 85, 90, 95]"
   ]
  },
  {
   "cell_type": "code",
   "execution_count": 29,
   "id": "2bcc063b",
   "metadata": {},
   "outputs": [
    {
     "name": "stdout",
     "output_type": "stream",
     "text": [
      "Variance: 50.0\n"
     ]
    }
   ],
   "source": [
    "def calculate_variance(nl):\n",
    "    sum_list = 0\n",
    "    for n in nl:\n",
    "        sum_list += n\n",
    "    mean = sum_list / len(nl)\n",
    "    \n",
    "    sum_squares = 0\n",
    "    for n in nl:\n",
    "        sum_squares += n**2\n",
    "    mean_squares = sum_squares / len(nl)\n",
    "    \n",
    "    variance = mean_squares - mean**2  # Corrected variance calculation\n",
    "    \n",
    "    return variance\n",
    "\n",
    "input_list = [75, 80, 85, 90, 95]\n",
    "result = calculate_variance(input_list)\n",
    "print(\"Variance:\", result)"
   ]
  },
  {
   "attachments": {
    "image.png": {
     "image/png": "[encoded data removed]"
    }
   },
   "cell_type": "markdown",
   "id": "b862dca6",
   "metadata": {},
   "source": [
    "![image.png](attachment:image.png)"
   ]
  },
  {
   "attachments": {
    "image.png": {
     "image/png": "[encoded data removed]"
    }
   },
   "cell_type": "markdown",
   "id": "6ccd5ebe",
   "metadata": {},
   "source": [
    "![image.png](attachment:image.png)"
   ]
  },
  {
   "attachments": {
    "image.png": {
     "image/png": "[encoded data removed]"
    }
   },
   "cell_type": "markdown",
   "id": "90ccbc45",
   "metadata": {},
   "source": [
    "![image.png](attachment:image.png)"
   ]
  },
  {
   "attachments": {
    "image.png": {
     "image/png": "[encoded data removed]"
    }
   },
   "cell_type": "markdown",
   "id": "7b6b84cb",
   "metadata": {},
   "source": [
    "![image.png](attachment:image.png)"
   ]
  },
  {
   "attachments": {
    "image.png": {
     "image/png": "[encoded data removed]"
    }
   },
   "cell_type": "markdown",
   "id": "b72c1263",
   "metadata": {},
   "source": [
    "![image.png](attachment:image.png)"
   ]
  },
  {
   "cell_type": "code",
   "execution_count": null,
   "id": "2e78c903",
   "metadata": {},
   "outputs": [],
   "source": []
  }
 ],
 "metadata": {
  "colab": {
   "provenance": []
  },
  "kernelspec": {
   "display_name": "Python 3 (ipykernel)",
   "language": "python",
   "name": "python3"
  },
  "language_info": {
   "codemirror_mode": {
    "name": "ipython",
    "version": 3
   },
   "file_extension": ".py",
   "mimetype": "text/x-python",
   "name": "python",
   "nbconvert_exporter": "python",
   "pygments_lexer": "ipython3",
   "version": "3.11.5"
  },
  "toc": {
   "base_numbering": 1,
   "nav_menu": {},
   "number_sections": true,
   "sideBar": true,
   "skip_h1_title": false,
   "title_cell": "Table of Contents",
   "title_sidebar": "Contents",
   "toc_cell": false,
   "toc_position": {},
   "toc_section_display": true,
   "toc_window_display": false
  }
 },
 "nbformat": 4,
 "nbformat_minor": 5
}
